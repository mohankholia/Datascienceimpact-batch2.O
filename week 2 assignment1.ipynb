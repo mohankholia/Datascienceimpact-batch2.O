{
 "cells": [
  {
   "cell_type": "markdown",
   "id": "0f171721-0484-4356-bc17-810023f9557f",
   "metadata": {},
   "source": [
    "## Q1. Which keyword is used to create a function? Create a function to return a list of odd numbers in the range of 1 to 25."
   ]
  },
  {
   "cell_type": "markdown",
   "id": "e6437e97-0ebb-44ab-876b-dbf5a1e42c3e",
   "metadata": {},
   "source": [
    "def keyword is used to create a function"
   ]
  },
  {
   "cell_type": "code",
   "execution_count": 1,
   "id": "d398e9fd-fdb0-4146-9d66-277f3886d66d",
   "metadata": {},
   "outputs": [
    {
     "name": "stdout",
     "output_type": "stream",
     "text": [
      "[2, 4, 6, 8, 10, 12, 14, 16, 18, 20, 22, 24]\n"
     ]
    }
   ],
   "source": [
    "\n",
    "def odd():\n",
    "    l1=[]\n",
    "    for i in range(1,25):\n",
    "        if (i%2==0):\n",
    "            l1.append(i)\n",
    "    print(l1)  \n",
    "odd()    "
   ]
  },
  {
   "cell_type": "markdown",
   "id": "e8fdbad9-39eb-4f01-8c9b-5e3b4432aec6",
   "metadata": {},
   "source": [
    "## Q2. Why *args and **kwargs is used in some functions? Create a function each for *args and **kwargs to demonstrate their use."
   ]
  },
  {
   "cell_type": "markdown",
   "id": "865dd9f9-c1bf-408a-9321-58e052859d98",
   "metadata": {},
   "source": [
    "args is used to pass a variable number of non-keyworded arguments to a function. It allows you to pass any number of arguments to a function, and these arguments are collected into a tuple inside the function. The name args is a convention, but you can use any valid variable name preceded by an asterisk (*)."
   ]
  },
  {
   "cell_type": "code",
   "execution_count": 2,
   "id": "50078517-25ce-4fe7-9127-47895e6f2252",
   "metadata": {},
   "outputs": [
    {
     "name": "stdout",
     "output_type": "stream",
     "text": [
      "Hello world!\n",
      "I love Python\n"
     ]
    }
   ],
   "source": [
    "def concatenate_strings(*args):\n",
    "    result = \"\"\n",
    "    for arg in args:\n",
    "        result += arg\n",
    "    return result\n",
    "\n",
    "print(concatenate_strings(\"Hello\", \" \", \"world\", \"!\"))  # Output: \"Hello world!\"\n",
    "print(concatenate_strings(\"I\", \" \", \"love\", \" \", \"Python\"))  # Output: \"I love Python\"\n"
   ]
  },
  {
   "cell_type": "markdown",
   "id": "3e7cee74-cddc-4d79-b2ad-0b09eff067f4",
   "metadata": {},
   "source": [
    "**kwargs is used to pass a variable number of keyword arguments to a function. It allows you to pass key-value pairs as arguments, and these arguments are collected into a dictionary inside the function. The name kwargs is a convention, but you can use any valid variable name preceded by two asterisks (**).\n",
    "\n",
    "Here's an example function that demonstrates the use of **kwargs:"
   ]
  },
  {
   "cell_type": "code",
   "execution_count": 3,
   "id": "6e1e26c0-516d-4ebe-afe5-3903242f716a",
   "metadata": {},
   "outputs": [
    {
     "name": "stdout",
     "output_type": "stream",
     "text": [
      "name: Alice\n",
      "age: 20\n",
      "major: Computer Science\n",
      "name: Bob\n",
      "age: 22\n",
      "major: Mathematics\n",
      "GPA: 3.8\n"
     ]
    }
   ],
   "source": [
    "def print_student_info(**kwargs):\n",
    "    for key, value in kwargs.items():\n",
    "        print(f\"{key}: {value}\")\n",
    "\n",
    "print_student_info(name=\"Alice\", age=20, major=\"Computer Science\")\n",
    "print_student_info(name=\"Bob\", age=22, major=\"Mathematics\", GPA=3.8)\n",
    "\n"
   ]
  },
  {
   "cell_type": "markdown",
   "id": "4e0a83c6-79e4-4691-abbe-b17e69732132",
   "metadata": {},
   "source": [
    "## Q4. What is a generator function in python? Why yield keyword is used? Give an example of a generator function."
   ]
  },
  {
   "cell_type": "markdown",
   "id": "2307bee2-8f87-40a7-9f34-f0bd07b96ecb",
   "metadata": {},
   "source": [
    "In Python, a generator function is a special type of function that generates a sequence of values, allowing you to iterate over them one at a time. It uses the yield keyword instead of the return keyword to return values. When a generator function is called, it doesn't execute the entire function body at once, but instead, it returns an iterator object that can be used to control the execution of the function.\n",
    "\n",
    "The yield keyword is used to define points in the function where the generator will pause its execution and return a value to the caller. The function's state is preserved, allowing it to resume from where it left off when the next value is requested. This makes generators memory efficient because they don't need to store all the values in memory at once.\n",
    "\n",
    "Here's an example of a generator function that generates a sequence of even numbers up to a given limit:\n",
    "\n"
   ]
  },
  {
   "cell_type": "code",
   "execution_count": 4,
   "id": "c79d3c0e-e917-4c56-879f-02a96d924492",
   "metadata": {},
   "outputs": [
    {
     "name": "stdout",
     "output_type": "stream",
     "text": [
      "0\n",
      "2\n",
      "4\n",
      "6\n",
      "8\n"
     ]
    }
   ],
   "source": [
    "def even_numbers(limit):\n",
    "    for i in range(limit):\n",
    "        if i % 2 == 0:\n",
    "            yield i\n",
    "\n",
    "# Using the generator function\n",
    "even_nums = even_numbers(10)\n",
    "\n",
    "# Iterating over the generated values\n",
    "for num in even_nums:\n",
    "    print(num)\n"
   ]
  },
  {
   "cell_type": "markdown",
   "id": "e98bd734-70df-4456-a119-5ce6cb72da9d",
   "metadata": {},
   "source": [
    "## Q5. Create a generator function for1 prime numbers less than 1000. Use the next() method to print the first 20 prime numbers."
   ]
  },
  {
   "cell_type": "code",
   "execution_count": 5,
   "id": "594cbdb2-44bb-4794-9963-9a707af54ec5",
   "metadata": {},
   "outputs": [
    {
     "name": "stdout",
     "output_type": "stream",
     "text": [
      "2\n",
      "3\n",
      "5\n",
      "7\n",
      "11\n"
     ]
    }
   ],
   "source": [
    "def prime_generator():\n",
    "    primes = []\n",
    "    num = 2\n",
    "    while True:\n",
    "        if all(num % prime != 0 for prime in primes):\n",
    "            primes.append(num)\n",
    "            yield num\n",
    "        num += 1\n",
    "\n",
    "# Create the prime number generator\n",
    "prime_gen = prime_generator()\n",
    "\n",
    "# Print the first 20 prime numbers using next()\n",
    "for _ in range(5):\n",
    "    prime = next(prime_gen)\n",
    "    print(prime)\n"
   ]
  },
  {
   "cell_type": "markdown",
   "id": "9d520744-6f48-4cea-8c36-d1f72f3e1e86",
   "metadata": {},
   "source": [
    "## Q6. Write a python program to print the first 10 Fibonacci numbers using a while loop."
   ]
  },
  {
   "cell_type": "code",
   "execution_count": 6,
   "id": "a8522d18-fa88-469e-bc5f-21358e6c545f",
   "metadata": {},
   "outputs": [
    {
     "name": "stdout",
     "output_type": "stream",
     "text": [
      "0\n",
      "1\n",
      "1\n",
      "2\n",
      "3\n",
      "5\n",
      "8\n",
      "13\n",
      "21\n",
      "34\n"
     ]
    }
   ],
   "source": [
    "a,b=0,1\n",
    "num=0\n",
    "while(num!=10):\n",
    "    print(a)\n",
    "    a,b=a+b,a\n",
    "    num=num+1"
   ]
  },
  {
   "cell_type": "markdown",
   "id": "90c58b9f-6657-43f5-8826-243edf038fe4",
   "metadata": {},
   "source": [
    "## Q7. Write a List Comprehension to iterate through the given string: ‘pwskills’. Expected output: ['p', 'w', 's', 'k', 'i', 'l', 'l', 's']"
   ]
  },
  {
   "cell_type": "code",
   "execution_count": 7,
   "id": "88b7df59-2f77-40ff-aba0-4a659aa677a6",
   "metadata": {},
   "outputs": [
    {
     "name": "stdout",
     "output_type": "stream",
     "text": [
      "['p', 'w', 's', 'k', 'i', 'l', 'l', 's']\n"
     ]
    }
   ],
   "source": [
    "string=\"pwskills\"\n",
    "a=[x for x in string]\n",
    "print(a)"
   ]
  },
  {
   "cell_type": "markdown",
   "id": "402dacd2-d68c-4d9d-a213-5acfc622552b",
   "metadata": {},
   "source": [
    "## Q8. Write a python program to check whether a given number is Palindrome or not using a while loop."
   ]
  },
  {
   "cell_type": "code",
   "execution_count": 14,
   "id": "36b9b0de-5c7c-447c-84d2-80d151c3a408",
   "metadata": {},
   "outputs": [
    {
     "name": "stdin",
     "output_type": "stream",
     "text": [
      "Enter number  1441\n"
     ]
    },
    {
     "name": "stdout",
     "output_type": "stream",
     "text": [
      "1441 is palinfrom number\n"
     ]
    }
   ],
   "source": [
    "a=int(input(\"Enter number \"))\n",
    "original=a\n",
    "reverse=0\n",
    "while(a!=0):\n",
    "    last=a%10\n",
    "    reverse=reverse*10+last\n",
    "    a=a//10\n",
    "if(reverse==original):\n",
    "        print(original,\"is palinfrom number\")\n",
    "else:\n",
    "        print(original,\" is not palindrom\")\n",
    "    \n",
    "    "
   ]
  },
  {
   "cell_type": "markdown",
   "id": "61c4e888-8628-486a-878c-46b0e4f10f75",
   "metadata": {},
   "source": [
    "## Q9. Write a code to print odd numbers from 1 to 100 using list comprehension."
   ]
  },
  {
   "cell_type": "code",
   "execution_count": 17,
   "id": "b066b656-fd8b-4591-918c-78642972284c",
   "metadata": {},
   "outputs": [
    {
     "name": "stdout",
     "output_type": "stream",
     "text": [
      "[2, 4, 6, 8, 10, 12, 14, 16, 18, 20, 22, 24, 26, 28, 30, 32, 34, 36, 38, 40, 42, 44, 46, 48, 50, 52, 54, 56, 58, 60, 62, 64, 66, 68, 70, 72, 74, 76, 78, 80, 82, 84, 86, 88, 90, 92, 94, 96, 98]\n"
     ]
    }
   ],
   "source": [
    "a=[x for x in range (1,100) if(x%2==0)]\n",
    "print(a)"
   ]
  },
  {
   "cell_type": "code",
   "execution_count": null,
   "id": "82c196bf-cef8-4522-b918-105d19e59b99",
   "metadata": {},
   "outputs": [],
   "source": []
  },
  {
   "cell_type": "code",
   "execution_count": null,
   "id": "e122ec8e-aa7b-44d6-b7ea-50c6233da534",
   "metadata": {},
   "outputs": [],
   "source": []
  }
 ],
 "metadata": {
  "kernelspec": {
   "display_name": "Python 3 (ipykernel)",
   "language": "python",
   "name": "python3"
  },
  "language_info": {
   "codemirror_mode": {
    "name": "ipython",
    "version": 3
   },
   "file_extension": ".py",
   "mimetype": "text/x-python",
   "name": "python",
   "nbconvert_exporter": "python",
   "pygments_lexer": "ipython3",
   "version": "3.10.8"
  }
 },
 "nbformat": 4,
 "nbformat_minor": 5
}
