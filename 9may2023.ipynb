{
 "cells": [
  {
   "cell_type": "markdown",
   "id": "ea0d8ced-09a7-4701-9a1c-dfea5e52b24d",
   "metadata": {},
   "source": [
    "## Q1. Create one variable containing following type of data:\n",
    "\n",
    "## (i) string\n",
    "\n",
    "## (ii) list\n",
    "\n",
    "## (iii) float\n",
    "\n",
    "## (iv) tuple"
   ]
  },
  {
   "cell_type": "code",
   "execution_count": 2,
   "id": "6a8a6731-5827-4a2d-9e36-57e9f6119ee2",
   "metadata": {},
   "outputs": [],
   "source": [
    "a=\"hello\"\n",
    "a=[10,20,30,40]\n",
    "a=22.5\n",
    "a=(1,2,3,4,5,6,7)"
   ]
  },
  {
   "cell_type": "markdown",
   "id": "98109caa-665e-4b18-8fcf-ea0d2eaeb316",
   "metadata": {},
   "source": [
    "## Q2. Given are some following variables containing data:\n",
    "## (i) var1 = ‘ ‘\n",
    "## (ii) var2 = ‘[ DS , ML , Python]’\n",
    "## (iii) var3 = [ ‘DS’ , ’ML’ , ‘Python’ ]\n",
    "## (iv) var4 = 1.\n",
    "## What will be the data type of the above given variable."
   ]
  },
  {
   "cell_type": "markdown",
   "id": "8900bfe2-e2de-4ef1-abb2-456ff20ed597",
   "metadata": {},
   "source": [
    "(i)String\n",
    "\n",
    "(ii)string\n",
    "\n",
    " (iii) list\n",
    " \n",
    "(iv)integer"
   ]
  },
  {
   "cell_type": "markdown",
   "id": "9fe28838-f72c-450c-8da4-a5e81b9b99e7",
   "metadata": {},
   "source": [
    "## Q3. Explain the use of the following operators using an example:\n",
    "## (i) /\n",
    "\n",
    "## (ii) %\n",
    "\n",
    "## (iii) //\n",
    "\n",
    "## (iv) **"
   ]
  },
  {
   "cell_type": "markdown",
   "id": "d7d467cd-53b3-44d6-8937-754d368705d0",
   "metadata": {},
   "source": [
    "(i)'/' (Division Operator):\n",
    "The division operator' / 'is used to perform division between two numbers. It returns the quotient (result of division) as a floating-point \n",
    "number.\n",
    "\n"
   ]
  },
  {
   "cell_type": "code",
   "execution_count": 6,
   "id": "8e0c3ffc-1f8d-4303-aec2-705b6c6e3d1c",
   "metadata": {},
   "outputs": [
    {
     "name": "stdin",
     "output_type": "stream",
     "text": [
      "Enter number 10\n",
      "Enter another number  5\n"
     ]
    },
    {
     "name": "stdout",
     "output_type": "stream",
     "text": [
      "2.0\n"
     ]
    }
   ],
   "source": [
    "a=int(input(\"Enter number\"))\n",
    "b=int(input(\"Enter another number \"))\n",
    "print(a/b)"
   ]
  },
  {
   "cell_type": "markdown",
   "id": "7462caf6-8f05-48e6-ab27-a625dada2ee6",
   "metadata": {},
   "source": [
    "(ii) % (Modulo Operator):The modulo operator % returns the remainder of the division between two numbers."
   ]
  },
  {
   "cell_type": "code",
   "execution_count": 9,
   "id": "852f2904-0a65-4ad2-94d6-a2e59e357c36",
   "metadata": {},
   "outputs": [
    {
     "name": "stdout",
     "output_type": "stream",
     "text": [
      "2\n"
     ]
    }
   ],
   "source": [
    "a=10 \n",
    "b=4\n",
    "print(a%b)"
   ]
  },
  {
   "cell_type": "markdown",
   "id": "992f3555-93c8-477f-8bd3-9e5a6c97d569",
   "metadata": {},
   "source": [
    "(iii) // (Floor Division Operator):\n",
    "The floor division operator // returns the quotient (result of division) as an integer, discarding the decimal part (flooring the result)"
   ]
  },
  {
   "cell_type": "code",
   "execution_count": 11,
   "id": "0cd5d199-9943-444b-9c4d-f91c2851276f",
   "metadata": {},
   "outputs": [
    {
     "name": "stdout",
     "output_type": "stream",
     "text": [
      "3\n"
     ]
    }
   ],
   "source": [
    "a=10 \n",
    "b=3\n",
    "print(a//b)"
   ]
  },
  {
   "cell_type": "markdown",
   "id": "525dce81-4add-48c3-93ab-0b80cb6b25ea",
   "metadata": {},
   "source": [
    "(iv) ** (Exponentiation Operator):\n",
    "The exponentiation operator ** is used to raise a number to the power of another number."
   ]
  },
  {
   "cell_type": "code",
   "execution_count": 13,
   "id": "97445dc6-06b1-4ff7-8536-8bcbf9bb8437",
   "metadata": {},
   "outputs": [
    {
     "name": "stdout",
     "output_type": "stream",
     "text": [
      "25\n"
     ]
    }
   ],
   "source": [
    "a=5\n",
    "print(a**2)"
   ]
  },
  {
   "cell_type": "markdown",
   "id": "66f6f380-5172-4df1-b7cb-c82f9a353983",
   "metadata": {},
   "source": [
    "## Q4. Create a list of length 10 of your choice containing multiple types of data. Using for loop print the element and its data type."
   ]
  },
  {
   "cell_type": "code",
   "execution_count": 4,
   "id": "5ab75354-9ad0-43c8-90f6-8b6e4f9e5221",
   "metadata": {},
   "outputs": [
    {
     "name": "stdout",
     "output_type": "stream",
     "text": [
      "<class 'int'>\n",
      "<class 'str'>\n",
      "<class 'float'>\n",
      "<class 'tuple'>\n"
     ]
    }
   ],
   "source": [
    "li1=[10,\"mohit\",25.5,(10,2,0,)]\n",
    "for i in li1:\n",
    "    print(type(i))"
   ]
  },
  {
   "cell_type": "markdown",
   "id": "3c38fde1-643d-43b1-b4bd-dddeb151d4bc",
   "metadata": {},
   "source": [
    "## Q5. Using a while loop, verify if the number A is purely divisible by number B and if so then how many times it can be divisible."
   ]
  },
  {
   "cell_type": "code",
   "execution_count": 15,
   "id": "d337d983-7e74-4800-b87f-04d3bbc7452f",
   "metadata": {},
   "outputs": [
    {
     "name": "stdin",
     "output_type": "stream",
     "text": [
      "Enter Number  12\n",
      "Enter number  3\n"
     ]
    },
    {
     "name": "stdout",
     "output_type": "stream",
     "text": [
      "Number A is divisible by number B 1 Times\n"
     ]
    }
   ],
   "source": [
    "A=int(input(\"Enter Number \"))\n",
    "B=int(input(\"Enter number \"))\n",
    "count = 0  # Variable to count the number of divisions\n",
    "while A % B == 0:\n",
    "    A = A / B\n",
    "    count += 1\n",
    "print(\"Number A is divisible by number B\", count ,\"Times\")\n"
   ]
  },
  {
   "cell_type": "markdown",
   "id": "a4d4ef5e-2290-4a0c-8db5-77b8242dce1b",
   "metadata": {},
   "source": [
    "## Q6. Create a list containing 25 int type data. Using for loop and if-else condition print if the element is divisible by 3 or not."
   ]
  },
  {
   "cell_type": "code",
   "execution_count": 23,
   "id": "b1517920-844e-412c-b860-40bbc31ee51b",
   "metadata": {},
   "outputs": [
    {
     "name": "stdout",
     "output_type": "stream",
     "text": [
      "3  is Divisible By 3\n",
      "6  is Divisible By 3\n",
      "9  is Divisible By 3\n",
      "12  is Divisible By 3\n",
      "15  is Divisible By 3\n",
      "18  is Divisible By 3\n",
      "21  is Divisible By 3\n",
      "24  is Divisible By 3\n"
     ]
    }
   ],
   "source": [
    "a=[x for x in range(1,26)]\n",
    "for i in  a:\n",
    "    if(i%3==0):\n",
    "        print(i,\" is Divisible By 3\")"
   ]
  },
  {
   "cell_type": "markdown",
   "id": "3fd539d7-d390-4a2a-8eda-4859ecb9fca1",
   "metadata": {},
   "source": [
    "## Q7. What do you understand about mutable and immutable data types? Give examples for both showing this property."
   ]
  },
  {
   "cell_type": "markdown",
   "id": "1073f8c5-eb18-46cf-bbcd-83a9b41db1d0",
   "metadata": {},
   "source": [
    "In programming, mutable and immutable are two fundamental concepts that describe the behavior of data types.\n",
    "Immutable data types are those whose values cannot be changed once they are created. If you try to modify an immutable object, a new object is created with the updated value. Examples of immutable data types include:\n",
    "Strings: In Python, strings are immutable. Once a string is created, you cannot change its characters. You can create a new string with the desired modifications. For example:"
   ]
  },
  {
   "cell_type": "code",
   "execution_count": 24,
   "id": "b5ddede8-b444-481c-b08c-56229f405e7a",
   "metadata": {},
   "outputs": [
    {
     "name": "stdout",
     "output_type": "stream",
     "text": [
      "Hello World\n"
     ]
    }
   ],
   "source": [
    "text = \"Hello\"\n",
    "new_text = text + \" World\" \n",
    "print(new_text)"
   ]
  },
  {
   "cell_type": "markdown",
   "id": "fd63937a-cc64-49e9-bede-6b3c383dd1a5",
   "metadata": {},
   "source": [
    "mutable data types are those that allow modifications to their values after they are created. Examples of mutable data types include:\n",
    "Lists: Lists in Python are mutable. You can modify, add, or remove elements from a list without creating a new list. For example"
   ]
  },
  {
   "cell_type": "code",
   "execution_count": 25,
   "id": "33af5618-56fc-4cd2-9c93-e22a2ec86840",
   "metadata": {},
   "outputs": [
    {
     "name": "stdout",
     "output_type": "stream",
     "text": [
      "[1, 2, 3, 4]\n"
     ]
    }
   ],
   "source": [
    "my_list = [1, 2, 3]\n",
    "my_list.append(4)  # Modifies the original list\n",
    "print(my_list)  # Output: [1, 2, 3, 4]\n"
   ]
  },
  {
   "cell_type": "code",
   "execution_count": null,
   "id": "e8973974-d8ba-4acd-959c-b463d9140855",
   "metadata": {},
   "outputs": [],
   "source": []
  }
 ],
 "metadata": {
  "kernelspec": {
   "display_name": "Python 3 (ipykernel)",
   "language": "python",
   "name": "python3"
  },
  "language_info": {
   "codemirror_mode": {
    "name": "ipython",
    "version": 3
   },
   "file_extension": ".py",
   "mimetype": "text/x-python",
   "name": "python",
   "nbconvert_exporter": "python",
   "pygments_lexer": "ipython3",
   "version": "3.10.8"
  }
 },
 "nbformat": 4,
 "nbformat_minor": 5
}
