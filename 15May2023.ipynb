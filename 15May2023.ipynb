{
 "cells": [
  {
   "cell_type": "markdown",
   "id": "b0a53d25-37f0-42f2-a4fe-b00a385bd382",
   "metadata": {},
   "source": [
    "## Q1. How do you comment code in Python? What are the different types of comments?"
   ]
  },
  {
   "cell_type": "markdown",
   "id": "db21d3e9-4398-46d4-9492-fefb85223ea5",
   "metadata": {},
   "source": [
    "In Python, you can add comments to your code to provide explanations or document certain parts of your program. Comments are ignored by the Python interpreter and are solely intended for human readers. There are two commonly used ways to add comments in Python:\n",
    "\n",
    "(i)Single-line comments: To add a comment that spans a single line, you can use the hash character (#). Any text following the hash symbol on the same line will be considered a comment. Here's an example:"
   ]
  },
  {
   "cell_type": "code",
   "execution_count": 1,
   "id": "eb704357-177f-48b4-9754-a6b8d0ef5157",
   "metadata": {},
   "outputs": [
    {
     "name": "stdout",
     "output_type": "stream",
     "text": [
      "Hello, World!\n"
     ]
    }
   ],
   "source": [
    "# This is a single-line comment\n",
    "print(\"Hello, World!\") "
   ]
  },
  {
   "cell_type": "markdown",
   "id": "40fe517d-a07d-438a-a234-dddcb12c65a6",
   "metadata": {},
   "source": [
    "Multi-line comments: If you need to add comments that span multiple lines, you can use triple quotes (\"\"\" or ''') as delimiters. This allows you to create multi-line comment blocks. Although Python doesn't have a specific syntax for multi-line comments, you can effectively use triple quotes to achieve the same effect:"
   ]
  },
  {
   "cell_type": "code",
   "execution_count": 2,
   "id": "1b49dfc3-371c-4a41-9953-c027eb257cc9",
   "metadata": {},
   "outputs": [
    {
     "name": "stdout",
     "output_type": "stream",
     "text": [
      "Hello, World!\n"
     ]
    }
   ],
   "source": [
    "\"\"\"\n",
    "This is a multi-line comment.\n",
    "It can span across multiple lines.\n",
    "\"\"\"\n",
    "\n",
    "'''\n",
    "This is another way to create a multi-line comment.\n",
    "'''\n",
    "\n",
    "print(\"Hello, World!\")\n"
   ]
  },
  {
   "cell_type": "markdown",
   "id": "cc472698-4d01-4303-ad38-2d31b50006b4",
   "metadata": {},
   "source": [
    "## Q2. What are variables in Python? How do you declare and assign values to variables?"
   ]
  },
  {
   "cell_type": "markdown",
   "id": "d7053cf6-7024-428e-be2e-58a20cd0c124",
   "metadata": {},
   "source": [
    "In Python, variables are used to store data or values in memory locations. Variables act as containers that hold values of different types, such as numbers, strings, lists, or more complex objects. They allow you to manipulate and work with data throughout your program.\n",
    "To declare and assign values to variables in Python, you simply need to use the assignment operator (=). Here's an example:"
   ]
  },
  {
   "cell_type": "code",
   "execution_count": 3,
   "id": "d4b49667-9d44-4c4e-aa30-bba11174e7f3",
   "metadata": {},
   "outputs": [
    {
     "name": "stdout",
     "output_type": "stream",
     "text": [
      "5\n",
      "John\n",
      "True\n"
     ]
    }
   ],
   "source": [
    "# Variable declaration and assignment\n",
    "x = 5\n",
    "name = \"John\"\n",
    "is_active = True\n",
    "\n",
    "# Printing the values stored in the variables\n",
    "print(x)         # Output: 5\n",
    "print(name)      # Output: John\n",
    "print(is_active) # Output: True\n"
   ]
  },
  {
   "cell_type": "markdown",
   "id": "fc809253-92a5-40db-81d1-6c28912a1a7e",
   "metadata": {},
   "source": [
    "## Q3. How do you convert one data type to another in Python?"
   ]
  },
  {
   "cell_type": "markdown",
   "id": "d73f3694-a082-4b2e-9873-eb70cc565620",
   "metadata": {},
   "source": [
    "In Python, you can convert one data type to another using type conversion functions or by using the target data type as a constructor. Here are some common ways to perform type conversion:"
   ]
  },
  {
   "cell_type": "code",
   "execution_count": 4,
   "id": "1cabb974-b674-4dd1-b75b-2dfc3f0512d4",
   "metadata": {},
   "outputs": [
    {
     "name": "stdout",
     "output_type": "stream",
     "text": [
      "<class 'int'>\n",
      "<class 'str'>\n"
     ]
    }
   ],
   "source": [
    "a=23\n",
    "print(type(a))\n",
    "b=str(a)\n",
    "print(type(b))"
   ]
  },
  {
   "cell_type": "markdown",
   "id": "e16f0bf3-3573-410d-a2d3-115c1a9dc4d6",
   "metadata": {},
   "source": [
    "## Q4. How do you write and execute a Python script from the command line?"
   ]
  },
  {
   "cell_type": "markdown",
   "id": "fc038ebe-7dcf-4496-bb08-eedd9da7310d",
   "metadata": {},
   "source": [
    "Open a text editor and create a new file. Save the file with a .py extension, which is the standard file extension for Python scripts. For example, you can save the file as script.py.\n",
    "\n",
    "Write your Python code in the file using the text editor. You can include any valid Python code in the script.\n",
    "\n",
    "# script.py\n",
    "print(\"Hello, World!\")\n",
    "Save the file after writing the code.\n",
    "Open the command line or terminal on your computer.\n",
    "\n",
    "Navigate to the directory where you saved the Python script using the cd command. For example, if the script is saved on the desktop, you can navigate to the desktop directory by executing:\n",
    "\n",
    "cd Desktop\n",
    "Once you are in the appropriate directory, you can execute the Python script by entering the following command in the command line:\n",
    "\n",
    "python script.py\n",
    "Replace script.py with the name of your Python script if it has a different name.\n",
    "\n",
    "Press Enter to execute the command. The Python interpreter will run the script, and the output, if any, will be displayed in the command line.\n",
    "\n",
    "Hello, World!"
   ]
  },
  {
   "cell_type": "markdown",
   "id": "764d9be9-ba1d-4b33-bafe-18791bf23263",
   "metadata": {},
   "source": [
    "## Q5. Given a list my_list = [1, 2, 3, 4, 5], write the code to slice the list and obtain the sub-list [2, 3]."
   ]
  },
  {
   "cell_type": "code",
   "execution_count": 6,
   "id": "19537507-6570-448d-8674-db15865a7568",
   "metadata": {},
   "outputs": [
    {
     "data": {
      "text/plain": [
       "[2, 3]"
      ]
     },
     "execution_count": 6,
     "metadata": {},
     "output_type": "execute_result"
    }
   ],
   "source": [
    "my_list = [1, 2, 3, 4, 5]\n",
    "my_list[1:3]"
   ]
  },
  {
   "cell_type": "markdown",
   "id": "a9c102b2-718a-49c9-a963-0b7ee7735f33",
   "metadata": {},
   "source": [
    "## Q6. What is a complex number in mathematics, and how is it represented in Python?"
   ]
  },
  {
   "cell_type": "markdown",
   "id": "c334806d-aaa5-48c7-ac3e-faaad04e6896",
   "metadata": {},
   "source": [
    "imaginary part. It is written in the form a + bi, where a represents the real part, b represents the imaginary part, and i represents the imaginary unit (i.e., the square root of -1).\n",
    "\n",
    "In Python, complex numbers are represented using the complex data type. The imaginary part is denoted by appending a lowercase j or J to the value. Here are a few examples:\n",
    "\n"
   ]
  },
  {
   "cell_type": "code",
   "execution_count": 7,
   "id": "ce6e4abf-c7c3-4a5e-bb11-110dcaec03cd",
   "metadata": {},
   "outputs": [
    {
     "name": "stdout",
     "output_type": "stream",
     "text": [
      "(2+3j)\n",
      "(-1.5+0.5j)\n",
      "(4-2j)\n"
     ]
    }
   ],
   "source": [
    "# Complex number representation in Python\n",
    "z1 = 2 + 3j\n",
    "z2 = -1.5 + 0.5j\n",
    "z3 = complex(4, -2)\n",
    "\n",
    "print(z1)  # Output: (2+3j)\n",
    "print(z2)  # Output: (-1.5+0.5j)\n",
    "print(z3)  # Output: (4-2j)\n"
   ]
  },
  {
   "cell_type": "markdown",
   "id": "8cbf6cd5-1211-4b21-b71b-9a57df054cee",
   "metadata": {},
   "source": [
    "## Q7. What is the correct way to declare a variable named age and assign the value 25 to it?"
   ]
  },
  {
   "cell_type": "code",
   "execution_count": 10,
   "id": "eb203e31-73df-4d98-8e84-a285183431da",
   "metadata": {},
   "outputs": [
    {
     "name": "stdout",
     "output_type": "stream",
     "text": [
      "25\n"
     ]
    }
   ],
   "source": [
    "age=25\n",
    "print(age)"
   ]
  },
  {
   "cell_type": "markdown",
   "id": "5fdb5717-508c-44ad-816e-480067033f37",
   "metadata": {},
   "source": [
    "## Q8. Declare a variable named price and assign the value 9.99 to it. What data type does this variable belong to?"
   ]
  },
  {
   "cell_type": "code",
   "execution_count": 11,
   "id": "f7dbe00c-4760-497d-b4c3-eccbc8369dae",
   "metadata": {},
   "outputs": [
    {
     "name": "stdout",
     "output_type": "stream",
     "text": [
      "<class 'float'>\n"
     ]
    }
   ],
   "source": [
    "price=9.99\n",
    "print(type(price))"
   ]
  },
  {
   "cell_type": "markdown",
   "id": "a7231f37-67ca-4490-bb58-b4792c7e170f",
   "metadata": {},
   "source": [
    "## Q9. Create a variable named name and assign your full name to it as a string. How would you print the value of this variable?"
   ]
  },
  {
   "cell_type": "code",
   "execution_count": 12,
   "id": "0bddf970-3777-473a-90ed-b76189c01356",
   "metadata": {},
   "outputs": [
    {
     "name": "stdout",
     "output_type": "stream",
     "text": [
      "Your Full Name\n"
     ]
    }
   ],
   "source": [
    "name = \"Your Full Name\"\n",
    "print(name)"
   ]
  },
  {
   "cell_type": "markdown",
   "id": "8c8b9a28-8e7b-4d3e-a748-ff6158bc27f4",
   "metadata": {},
   "source": [
    "## Q10. Given the string \"Hello, World!\", extract the substring \"World\"."
   ]
  },
  {
   "cell_type": "code",
   "execution_count": 15,
   "id": "5cf65cdc-0bc5-47fe-9ff3-1240dffddff3",
   "metadata": {},
   "outputs": [
    {
     "name": "stdout",
     "output_type": "stream",
     "text": [
      "World\n"
     ]
    }
   ],
   "source": [
    "a=\"Hello, World!\"\n",
    "print(a[7:len(a)-1])"
   ]
  },
  {
   "cell_type": "markdown",
   "id": "dd5b5ca7-7528-4a4b-97d1-5d84ac76b19d",
   "metadata": {},
   "source": [
    "## Q11. Create a variable named \"is_student\" and assign it a boolean value indicating whether you are currently a student or not."
   ]
  },
  {
   "cell_type": "code",
   "execution_count": 20,
   "id": "72f1df0b-1641-4b5f-a1d5-db0df92e4cfa",
   "metadata": {},
   "outputs": [],
   "source": [
    "is_student=True\n",
    "type(is_student)\n",
    "is_student = False"
   ]
  },
  {
   "cell_type": "code",
   "execution_count": null,
   "id": "f976c6b1-7500-4331-a1a6-fd97bcfbec1e",
   "metadata": {},
   "outputs": [],
   "source": []
  }
 ],
 "metadata": {
  "kernelspec": {
   "display_name": "Python 3 (ipykernel)",
   "language": "python",
   "name": "python3"
  },
  "language_info": {
   "codemirror_mode": {
    "name": "ipython",
    "version": 3
   },
   "file_extension": ".py",
   "mimetype": "text/x-python",
   "name": "python",
   "nbconvert_exporter": "python",
   "pygments_lexer": "ipython3",
   "version": "3.10.8"
  }
 },
 "nbformat": 4,
 "nbformat_minor": 5
}
